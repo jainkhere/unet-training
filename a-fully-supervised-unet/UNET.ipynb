{
 "cells": [
  {
   "cell_type": "code",
   "execution_count": 1,
   "metadata": {},
   "outputs": [],
   "source": [
    "from imports import *"
   ]
  },
  {
   "cell_type": "code",
   "execution_count": 2,
   "metadata": {},
   "outputs": [],
   "source": [
    "%matplotlib inline\n",
    "%load_ext autoreload\n",
    "%autoreload 2"
   ]
  },
  {
   "cell_type": "code",
   "execution_count": 3,
   "metadata": {},
   "outputs": [],
   "source": [
    "import data_management\n",
    "from data_management import load_stack\n",
    "from data_management import load_data\n",
    "\n",
    "import interactive_plot\n",
    "\n",
    "import metrics\n",
    "from metrics import statistics\n",
    "from metrics import confusion_matrix\n",
    "from metrics import error_distribution\n",
    "from metrics import error_borders\n",
    "from metrics import PR_curve\n",
    "\n",
    "import generator_extended\n",
    "\n",
    "import unet\n",
    "from unet import load_model_unet\n",
    "from unet import predict_net\n",
    "from unet import get_unet\n",
    "from unet import train\n",
    "from unet import execute_predict"
   ]
  },
  {
   "cell_type": "markdown",
   "metadata": {},
   "source": [
    "### Load data"
   ]
  },
  {
   "cell_type": "code",
   "execution_count": 4,
   "metadata": {},
   "outputs": [
    {
     "name": "stderr",
     "output_type": "stream",
     "text": [
      "\r",
      "  0%|          | 0/1 [00:00<?, ?it/s]"
     ]
    },
    {
     "name": "stdout",
     "output_type": "stream",
     "text": [
      "found 165 images in /home/haehn/Lucchi++/Train_In\n",
      "found 165 in total.\n"
     ]
    },
    {
     "name": "stderr",
     "output_type": "stream",
     "text": [
      "100%|██████████| 1/1 [00:02<00:00,  2.23s/it]"
     ]
    },
    {
     "name": "stdout",
     "output_type": "stream",
     "text": [
      "(165, 768, 1024, 1)\n",
      "(165, 768, 1024, 1)\n"
     ]
    },
    {
     "name": "stderr",
     "output_type": "stream",
     "text": [
      "\n"
     ]
    }
   ],
   "source": [
    "#training\n",
    "imgs_train, imgs_mask_train = load_data(['/home/haehn/Lucchi++/Train_In'], \n",
    "                                        ['/home/haehn/Lucchi++/Train_Out'])"
   ]
  },
  {
   "cell_type": "code",
   "execution_count": 5,
   "metadata": {},
   "outputs": [
    {
     "name": "stderr",
     "output_type": "stream",
     "text": [
      "\r",
      "  0%|          | 0/1 [00:00<?, ?it/s]"
     ]
    },
    {
     "name": "stdout",
     "output_type": "stream",
     "text": [
      "found 165 images in /home/haehn/Lucchi++/Test_In\n",
      "found 165 in total.\n"
     ]
    },
    {
     "name": "stderr",
     "output_type": "stream",
     "text": [
      "100%|██████████| 1/1 [00:02<00:00,  2.03s/it]"
     ]
    },
    {
     "name": "stdout",
     "output_type": "stream",
     "text": [
      "(165, 768, 1024, 1)\n",
      "(165, 768, 1024, 1)\n"
     ]
    },
    {
     "name": "stderr",
     "output_type": "stream",
     "text": [
      "\n"
     ]
    }
   ],
   "source": [
    "#testing\n",
    "imgs_test, imgs_mask_test = load_data(['/home/haehn/Lucchi++/Test_In'], \n",
    "                                      ['/home/haehn/Lucchi++/Test_Out'])"
   ]
  },
  {
   "cell_type": "code",
   "execution_count": 6,
   "metadata": {},
   "outputs": [
    {
     "name": "stdout",
     "output_type": "stream",
     "text": [
      "0.08627451 0.95686275\n",
      "0.0 1.0\n",
      "0.007843138 1.0\n",
      "0.0 1.0\n"
     ]
    }
   ],
   "source": [
    "print(imgs_train.min(), imgs_train.max())\n",
    "print(imgs_mask_train.min(), imgs_mask_train.max())\n",
    "print(imgs_test.min(), imgs_test.max())\n",
    "print(imgs_mask_test.min(), imgs_mask_test.max())"
   ]
  },
  {
   "cell_type": "code",
   "execution_count": 7,
   "metadata": {},
   "outputs": [
    {
     "data": {
      "image/png": "[encoded data removed]",
      "text/plain": [
       "<Figure size 504x288 with 1 Axes>"
      ]
     },
     "metadata": {
      "needs_background": "light"
     },
     "output_type": "display_data"
    }
   ],
   "source": [
    "plt.figure(figsize=(7,4))\n",
    "plt.imshow(imgs_mask_test[0,:,:,0], cmap='gray')\n",
    "bimg = mh.borders(imgs_mask_test[0,:,:,0]).astype(int)\n",
    "res = plt.imshow(bimg, alpha=0.9, cmap='gray')"
   ]
  },
  {
   "cell_type": "markdown",
   "metadata": {},
   "source": [
    "### Run Training"
   ]
  },
  {
   "cell_type": "code",
   "execution_count": 8,
   "metadata": {
    "scrolled": false
   },
   "outputs": [
    {
     "name": "stdout",
     "output_type": "stream",
     "text": [
      "start_filters 16\n",
      "conv1 shape: (None, 512, 512, 16)\n",
      "conv1 shape: (None, 512, 512, 16)\n",
      "pool1 shape: (None, 256, 256, 16)\n",
      "conv2 shape: (None, 256, 256, 32)\n",
      "conv2 shape: (None, 256, 256, 32)\n",
      "pool2 shape: (None, 128, 128, 32)\n",
      "conv3 shape: (None, 128, 128, 64)\n",
      "conv3 shape: (None, 128, 128, 64)\n",
      "pool3 shape: (None, 64, 64, 64)\n"
     ]
    }
   ],
   "source": [
    "model = get_unet(0.0005, 512, 512, dr_rate=0.2, diceloss=False, jaccardloss=False, \n",
    "                 focalloss=False, customloss=False, start_filters=16)"
   ]
  },
  {
   "cell_type": "code",
   "execution_count": 10,
   "metadata": {},
   "outputs": [],
   "source": [
    "#model = load_model_unet('/home/daniel_haehn/mitochondria/a-fully-supervised-unet/models/lucchi-pp/weights.675-0.02.hdf5', \n",
    "#                         use_dice_loss=False, use_jaccard_loss=False, use_focal_loss=False)"
   ]
  },
  {
   "cell_type": "code",
   "execution_count": 9,
   "metadata": {},
   "outputs": [
    {
     "name": "stdout",
     "output_type": "stream",
     "text": [
      "Model: \"model\"\n",
      "__________________________________________________________________________________________________\n",
      "Layer (type)                    Output Shape         Param #     Connected to                     \n",
      "==================================================================================================\n",
      "input_1 (InputLayer)            [(None, 512, 512, 1) 0                                            \n",
      "__________________________________________________________________________________________________\n",
      "conv2d (Conv2D)                 (None, 512, 512, 16) 160         input_1[0][0]                    \n",
      "__________________________________________________________________________________________________\n",
      "conv2d_1 (Conv2D)               (None, 512, 512, 16) 2320        conv2d[0][0]                     \n",
      "__________________________________________________________________________________________________\n",
      "max_pooling2d (MaxPooling2D)    (None, 256, 256, 16) 0           conv2d_1[0][0]                   \n",
      "__________________________________________________________________________________________________\n",
      "conv2d_2 (Conv2D)               (None, 256, 256, 32) 4640        max_pooling2d[0][0]              \n",
      "__________________________________________________________________________________________________\n",
      "conv2d_3 (Conv2D)               (None, 256, 256, 32) 9248        conv2d_2[0][0]                   \n",
      "__________________________________________________________________________________________________\n",
      "max_pooling2d_1 (MaxPooling2D)  (None, 128, 128, 32) 0           conv2d_3[0][0]                   \n",
      "__________________________________________________________________________________________________\n",
      "conv2d_4 (Conv2D)               (None, 128, 128, 64) 18496       max_pooling2d_1[0][0]            \n",
      "__________________________________________________________________________________________________\n",
      "conv2d_5 (Conv2D)               (None, 128, 128, 64) 36928       conv2d_4[0][0]                   \n",
      "__________________________________________________________________________________________________\n",
      "max_pooling2d_2 (MaxPooling2D)  (None, 64, 64, 64)   0           conv2d_5[0][0]                   \n",
      "__________________________________________________________________________________________________\n",
      "conv2d_6 (Conv2D)               (None, 64, 64, 128)  73856       max_pooling2d_2[0][0]            \n",
      "__________________________________________________________________________________________________\n",
      "conv2d_7 (Conv2D)               (None, 64, 64, 128)  147584      conv2d_6[0][0]                   \n",
      "__________________________________________________________________________________________________\n",
      "dropout (Dropout)               (None, 64, 64, 128)  0           conv2d_7[0][0]                   \n",
      "__________________________________________________________________________________________________\n",
      "max_pooling2d_3 (MaxPooling2D)  (None, 32, 32, 128)  0           dropout[0][0]                    \n",
      "__________________________________________________________________________________________________\n",
      "conv2d_8 (Conv2D)               (None, 32, 32, 256)  295168      max_pooling2d_3[0][0]            \n",
      "__________________________________________________________________________________________________\n",
      "conv2d_9 (Conv2D)               (None, 32, 32, 256)  590080      conv2d_8[0][0]                   \n",
      "__________________________________________________________________________________________________\n",
      "dropout_1 (Dropout)             (None, 32, 32, 256)  0           conv2d_9[0][0]                   \n",
      "__________________________________________________________________________________________________\n",
      "up_sampling2d (UpSampling2D)    (None, 64, 64, 256)  0           dropout_1[0][0]                  \n",
      "__________________________________________________________________________________________________\n",
      "conv2d_10 (Conv2D)              (None, 64, 64, 128)  131200      up_sampling2d[0][0]              \n",
      "__________________________________________________________________________________________________\n",
      "concatenate (Concatenate)       (None, 64, 64, 256)  0           dropout[0][0]                    \n",
      "                                                                 conv2d_10[0][0]                  \n",
      "__________________________________________________________________________________________________\n",
      "conv2d_11 (Conv2D)              (None, 64, 64, 128)  295040      concatenate[0][0]                \n",
      "__________________________________________________________________________________________________\n",
      "conv2d_12 (Conv2D)              (None, 64, 64, 128)  147584      conv2d_11[0][0]                  \n",
      "__________________________________________________________________________________________________\n",
      "up_sampling2d_1 (UpSampling2D)  (None, 128, 128, 128 0           conv2d_12[0][0]                  \n",
      "__________________________________________________________________________________________________\n",
      "conv2d_13 (Conv2D)              (None, 128, 128, 64) 32832       up_sampling2d_1[0][0]            \n",
      "__________________________________________________________________________________________________\n",
      "concatenate_1 (Concatenate)     (None, 128, 128, 128 0           conv2d_5[0][0]                   \n",
      "                                                                 conv2d_13[0][0]                  \n",
      "__________________________________________________________________________________________________\n",
      "conv2d_14 (Conv2D)              (None, 128, 128, 64) 73792       concatenate_1[0][0]              \n",
      "__________________________________________________________________________________________________\n",
      "conv2d_15 (Conv2D)              (None, 128, 128, 64) 36928       conv2d_14[0][0]                  \n",
      "__________________________________________________________________________________________________\n",
      "up_sampling2d_2 (UpSampling2D)  (None, 256, 256, 64) 0           conv2d_15[0][0]                  \n",
      "__________________________________________________________________________________________________\n",
      "conv2d_16 (Conv2D)              (None, 256, 256, 64) 16448       up_sampling2d_2[0][0]            \n",
      "__________________________________________________________________________________________________\n",
      "concatenate_2 (Concatenate)     (None, 256, 256, 96) 0           conv2d_3[0][0]                   \n",
      "                                                                 conv2d_16[0][0]                  \n",
      "__________________________________________________________________________________________________\n",
      "conv2d_17 (Conv2D)              (None, 256, 256, 32) 27680       concatenate_2[0][0]              \n",
      "__________________________________________________________________________________________________\n",
      "conv2d_18 (Conv2D)              (None, 256, 256, 32) 9248        conv2d_17[0][0]                  \n",
      "__________________________________________________________________________________________________\n",
      "up_sampling2d_3 (UpSampling2D)  (None, 512, 512, 32) 0           conv2d_18[0][0]                  \n",
      "__________________________________________________________________________________________________\n",
      "conv2d_19 (Conv2D)              (None, 512, 512, 16) 2064        up_sampling2d_3[0][0]            \n",
      "__________________________________________________________________________________________________\n",
      "concatenate_3 (Concatenate)     (None, 512, 512, 32) 0           conv2d_1[0][0]                   \n",
      "                                                                 conv2d_19[0][0]                  \n",
      "__________________________________________________________________________________________________\n",
      "conv2d_20 (Conv2D)              (None, 512, 512, 16) 4624        concatenate_3[0][0]              \n",
      "__________________________________________________________________________________________________\n",
      "conv2d_21 (Conv2D)              (None, 512, 512, 16) 2320        conv2d_20[0][0]                  \n",
      "__________________________________________________________________________________________________\n",
      "conv2d_22 (Conv2D)              (None, 512, 512, 2)  290         conv2d_21[0][0]                  \n",
      "__________________________________________________________________________________________________\n",
      "conv2d_23 (Conv2D)              (None, 512, 512, 1)  3           conv2d_22[0][0]                  \n",
      "==================================================================================================\n",
      "Total params: 1,958,533\n",
      "Trainable params: 1,958,533\n",
      "Non-trainable params: 0\n",
      "__________________________________________________________________________________________________\n"
     ]
    }
   ],
   "source": [
    "model.summary()"
   ]
  },
  {
   "cell_type": "code",
   "execution_count": 11,
   "metadata": {
    "scrolled": false
   },
   "outputs": [
    {
     "data": {
      "image/png": "[encoded data removed]",
      "text/plain": [
       "<Figure size 1008x720 with 6 Axes>"
      ]
     },
     "metadata": {
      "needs_background": "light"
     },
     "output_type": "display_data"
    },
    {
     "name": "stdout",
     "output_type": "stream",
     "text": [
      "iteration 1000\n",
      "loss 0.23331768810749054 loss_val 0.2053135633468628\n",
      "acc None acc_val None\n",
      "prec 0.0 prec_val 0.0\n",
      "rec 0.0 rec_val 0.0\n",
      "jaccard 0.030728904530405998 jaccard_val 0.02820447087287903\n",
      "dice 0.05983702838420868 dice_val 0.055133480578660965\n",
      "time per epoch: 13.146563269853592\n",
      "100/100 [==============================] - 13s 129ms/step - loss: 0.2333 - accuracy: 0.9377 - keras_precision: 0.0000e+00 - keras_recall: 0.0000e+00 - keras_jaccard_coef: 0.0307 - keras_dice_coef: 0.0598 - val_loss: 0.2053 - val_accuracy: 0.9480 - val_keras_precision: 0.0000e+00 - val_keras_recall: 0.0000e+00 - val_keras_jaccard_coef: 0.0282 - val_keras_dice_coef: 0.0551\n",
      "training ended, logfile closed.\n"
     ]
    }
   ],
   "source": [
    "train(model, imgs_train, imgs_mask_train, imgs_test, imgs_mask_test,\n",
    "      'models/A100test', 4, 1000, verbosity=1, \n",
    "      perform_flipping=True, perform_rotation=True, to_dir=False, train_on_borders=False)\n"
   ]
  },
  {
   "cell_type": "markdown",
   "metadata": {},
   "source": [
    "### Evaluate"
   ]
  },
  {
   "cell_type": "code",
   "execution_count": null,
   "metadata": {},
   "outputs": [],
   "source": [
    "pred = execute_predict(model, imgs_test, stepsize=512, resize_shortest=True, extensive=False)"
   ]
  },
  {
   "cell_type": "code",
   "execution_count": null,
   "metadata": {
    "collapsed": true
   },
   "outputs": [],
   "source": [
    "np.save('predictions.npy', pred)"
   ]
  },
  {
   "cell_type": "code",
   "execution_count": null,
   "metadata": {
    "collapsed": true
   },
   "outputs": [],
   "source": [
    "cmatrix = confusion_matrix(pred, imgs_mask_test)"
   ]
  },
  {
   "cell_type": "code",
   "execution_count": null,
   "metadata": {},
   "outputs": [],
   "source": [
    "statistics(cmatrix)"
   ]
  },
  {
   "cell_type": "code",
   "execution_count": null,
   "metadata": {
    "collapsed": true,
    "scrolled": false
   },
   "outputs": [],
   "source": [
    "error_distribution(model, imgs_test, imgs_mask_test, extensive=True, figsize=(15,10))"
   ]
  },
  {
   "cell_type": "code",
   "execution_count": null,
   "metadata": {},
   "outputs": [],
   "source": [
    "PR_curve(pred, imgs_mask_test)"
   ]
  },
  {
   "cell_type": "markdown",
   "metadata": {},
   "source": [
    "### Results On Single Image"
   ]
  },
  {
   "cell_type": "code",
   "execution_count": null,
   "metadata": {
    "collapsed": true,
    "scrolled": false
   },
   "outputs": [],
   "source": [
    "use_train = False\n",
    "imgnr = 60\n",
    "input_img = cv2.imread('/n/regal/pfister_lab/vincent/vcasser/connectomics/movements/epfl-' + ('train' if use_train else 'test') + '-crop/' + str(imgnr) + '.png',0) \n",
    "gt = misc.imread('/n/regal/pfister_lab/vincent/vcasser/connectomics/movements/epfl-' + ('train' if use_train else 'test') + '-crop-mask/' + str(imgnr) + '.png')\n",
    "print(gt.shape)\n",
    "\n",
    "plt.figure(figsize = (15,15))\n",
    "plt.imshow(input_img, cmap='gray')\n",
    "\n",
    "print(input_img.shape)\n",
    "res = execute_predict(model, input_img.reshape(1,512,512,1).astype(float)/255.)\n",
    "print(res.min(), res.max())\n",
    "\n",
    "res[res>0.5]=1\n",
    "res[res<=0.5]=0\n",
    "\n",
    "plt.figure(figsize = (15,15))\n",
    "plt.imshow(res[0,:,:,0], cmap='gray')\n",
    "\n",
    "plt.figure(figsize = (15,15))\n",
    "plt.imshow(gt[:,:,0], cmap='gray')\n",
    "\n",
    "cv2.imwrite('example_img_gt.png', gt)\n",
    "cv2.imwrite('example_img_raw.png', input_img)\n",
    "cv2.imwrite('example_img.png', res[0,:,:,0]*255.)"
   ]
  },
  {
   "cell_type": "markdown",
   "metadata": {},
   "source": [
    "### Server"
   ]
  },
  {
   "cell_type": "code",
   "execution_count": null,
   "metadata": {
    "collapsed": true
   },
   "outputs": [],
   "source": [
    "import socket \n",
    "import io\n",
    "from scipy import misc\n",
    "import matplotlib.pyplot as plt\n",
    "from scipy.misc import toimage\n",
    "%matplotlib inline\n",
    "\n",
    "def run(TCP_IP, TCP_PORT, BUFFER_SIZE=32768):\n",
    "    s = socket.socket(socket.AF_INET, socket.SOCK_STREAM)\n",
    "    s.setsockopt(socket.SOL_SOCKET, socket.SO_REUSEADDR, 1)\n",
    "    s.bind((TCP_IP, TCP_PORT))\n",
    "    \n",
    "    s.listen(1)\n",
    "  \n",
    "    while(True):\n",
    "        try:\n",
    "            print('waiting for incoming connections...')\n",
    "            conn, addr = s.accept()\n",
    "            print('Connection address:', addr)\n",
    "            while(True):\n",
    "                req = conn.recv(BUFFER_SIZE)\n",
    "                if not req: break\n",
    "                if len(req)<=1: continue #ignore tests if alive\n",
    "\n",
    "                length = int(req.decode(\"utf-8\"))\n",
    "                ct=0\n",
    "                b = io.BytesIO()\n",
    "\n",
    "                while(ct<length):\n",
    "                    req = conn.recv(min(BUFFER_SIZE, length-ct))\n",
    "                    b.write(req)\n",
    "                    ct+=len(req)\n",
    "                b.seek(0)\n",
    "                img = misc.imread(b)[:,:,0] #buff)\n",
    "\n",
    "                handle_request(req,conn,img)\n",
    "\n",
    "        except:\n",
    "            \n",
    "            print('connection closed.')\n",
    "            conn.close()\n",
    "            \n",
    "def handle_request(req, conn, img):\n",
    "    img = img/255.0\n",
    "    img = img.reshape(1,img.shape[0], img.shape[1], 1)\n",
    "    result = execute_predict(img)\n",
    "    result = result[0,:,:,0]\n",
    "    \n",
    "    result[result<0.5]=0\n",
    "    result[result>=0.5]=1\n",
    "    newres = np.zeros(shape=(result.shape[0], result.shape[1],4))\n",
    "    newres[:,:,0]=result\n",
    "    newres[:,:,1]=0\n",
    "    newres[:,:,2]=0\n",
    "    newres[:,:,3]=result/4\n",
    "    \n",
    "    result = newres\n",
    "    \n",
    "    resultb = io.BytesIO()\n",
    "    misc.imsave(resultb, result, format='png')\n",
    "    resultb.seek(0)\n",
    "    buff = resultb.read()\n",
    "    \n",
    "    conn.send(str.encode(str(len(buff))))\n",
    "    conn.send(buff)"
   ]
  },
  {
   "cell_type": "code",
   "execution_count": null,
   "metadata": {
    "collapsed": true
   },
   "outputs": [],
   "source": [
    "run('127.0.0.1', 9875)"
   ]
  },
  {
   "cell_type": "code",
   "execution_count": null,
   "metadata": {
    "collapsed": true
   },
   "outputs": [],
   "source": []
  }
 ],
 "metadata": {
  "kernelspec": {
   "display_name": "Python 3",
   "language": "python",
   "name": "python3"
  },
  "language_info": {
   "codemirror_mode": {
    "name": "ipython",
    "version": 3
   },
   "file_extension": ".py",
   "mimetype": "text/x-python",
   "name": "python",
   "nbconvert_exporter": "python",
   "pygments_lexer": "ipython3",
   "version": "3.8.5"
  }
 },
 "nbformat": 4,
 "nbformat_minor": 2
}
