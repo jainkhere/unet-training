{
 "cells": [
  {
   "cell_type": "code",
   "execution_count": 12,
   "metadata": {},
   "outputs": [],
   "source": [
    "from imports import *"
   ]
  },
  {
   "cell_type": "code",
   "execution_count": 13,
   "metadata": {},
   "outputs": [
    {
     "name": "stdout",
     "output_type": "stream",
     "text": [
      "The autoreload extension is already loaded. To reload it, use:\n",
      "  %reload_ext autoreload\n"
     ]
    }
   ],
   "source": [
    "%matplotlib inline\n",
    "%load_ext autoreload\n",
    "%autoreload 2"
   ]
  },
  {
   "cell_type": "code",
   "execution_count": 14,
   "metadata": {},
   "outputs": [],
   "source": [
    "import data_management\n",
    "from data_management import load_stack\n",
    "from data_management import load_data\n",
    "\n",
    "import interactive_plot\n",
    "\n",
    "import metrics\n",
    "from metrics import statistics\n",
    "from metrics import confusion_matrix\n",
    "from metrics import error_distribution\n",
    "from metrics import error_borders\n",
    "from metrics import PR_curve\n",
    "\n",
    "import generator_extended\n",
    "\n",
    "import unet\n",
    "from unet import load_model_unet\n",
    "from unet import predict_net\n",
    "from unet import get_unet\n",
    "from unet import train\n",
    "from unet import execute_predict"
   ]
  },
  {
   "cell_type": "markdown",
   "metadata": {},
   "source": [
    "### Load data"
   ]
  },
  {
   "cell_type": "code",
   "execution_count": 15,
   "metadata": {},
   "outputs": [
    {
     "name": "stderr",
     "output_type": "stream",
     "text": [
      "\r",
      "  0%|          | 0/1 [00:00<?, ?it/s]"
     ]
    },
    {
     "name": "stdout",
     "output_type": "stream",
     "text": [
      "found 165 images in /home/kunal.jain001/dataset/Lucchi++/Train_In\n",
      "found 165 in total.\n"
     ]
    },
    {
     "name": "stderr",
     "output_type": "stream",
     "text": [
      "100%|██████████| 1/1 [00:02<00:00,  2.07s/it]"
     ]
    },
    {
     "name": "stdout",
     "output_type": "stream",
     "text": [
      "(165, 768, 1024, 1)\n",
      "(165, 768, 1024, 1)\n"
     ]
    },
    {
     "name": "stderr",
     "output_type": "stream",
     "text": [
      "\n"
     ]
    }
   ],
   "source": [
    "#training\n",
    "imgs_train, imgs_mask_train = load_data(['/home/kunal.jain001/dataset/Lucchi++/Train_In'], \n",
    "                                        ['/home/kunal.jain001/dataset/Lucchi++/Train_Out'])"
   ]
  },
  {
   "cell_type": "code",
   "execution_count": 16,
   "metadata": {},
   "outputs": [
    {
     "name": "stderr",
     "output_type": "stream",
     "text": [
      "\r",
      "  0%|          | 0/1 [00:00<?, ?it/s]"
     ]
    },
    {
     "name": "stdout",
     "output_type": "stream",
     "text": [
      "found 165 images in /home/kunal.jain001/dataset/Lucchi++/Test_In\n",
      "found 165 in total.\n"
     ]
    },
    {
     "name": "stderr",
     "output_type": "stream",
     "text": [
      "100%|██████████| 1/1 [00:02<00:00,  2.20s/it]"
     ]
    },
    {
     "name": "stdout",
     "output_type": "stream",
     "text": [
      "(165, 768, 1024, 1)\n",
      "(165, 768, 1024, 1)\n"
     ]
    },
    {
     "name": "stderr",
     "output_type": "stream",
     "text": [
      "\n"
     ]
    }
   ],
   "source": [
    "#testing\n",
    "imgs_test, imgs_mask_test = load_data(['/home/kunal.jain001/dataset/Lucchi++/Test_In'], \n",
    "                                      ['/home/kunal.jain001/dataset/Lucchi++/Test_Out'])"
   ]
  },
  {
   "cell_type": "code",
   "execution_count": 17,
   "metadata": {},
   "outputs": [
    {
     "name": "stdout",
     "output_type": "stream",
     "text": [
      "0.08627451 0.95686275\n",
      "0.0 1.0\n",
      "0.007843138 1.0\n",
      "0.0 1.0\n"
     ]
    }
   ],
   "source": [
    "print(imgs_train.min(), imgs_train.max())\n",
    "print(imgs_mask_train.min(), imgs_mask_train.max())\n",
    "print(imgs_test.min(), imgs_test.max())\n",
    "print(imgs_mask_test.min(), imgs_mask_test.max())"
   ]
  },
  {
   "cell_type": "code",
   "execution_count": 18,
   "metadata": {},
   "outputs": [
    {
     "data": {
      "image/png": "[encoded data removed]",
      "text/plain": [
       "<Figure size 504x288 with 1 Axes>"
      ]
     },
     "metadata": {
      "needs_background": "light"
     },
     "output_type": "display_data"
    }
   ],
   "source": [
    "plt.figure(figsize=(7,4))\n",
    "plt.imshow(imgs_mask_test[0,:,:,0], cmap='gray')\n",
    "bimg = mh.borders(imgs_mask_test[0,:,:,0]).astype(int)\n",
    "res = plt.imshow(bimg, alpha=0.9, cmap='gray')"
   ]
  },
  {
   "cell_type": "markdown",
   "metadata": {},
   "source": [
    "### Run Training"
   ]
  },
  {
   "cell_type": "code",
   "execution_count": 19,
   "metadata": {
    "scrolled": false
   },
   "outputs": [
    {
     "name": "stdout",
     "output_type": "stream",
     "text": [
      "start_filters 16\n",
      "conv1 shape: (None, 512, 512, 16)\n",
      "conv1 shape: (None, 512, 512, 16)\n",
      "pool1 shape: (None, 256, 256, 16)\n",
      "conv2 shape: (None, 256, 256, 32)\n",
      "conv2 shape: (None, 256, 256, 32)\n",
      "pool2 shape: (None, 128, 128, 32)\n",
      "conv3 shape: (None, 128, 128, 64)\n",
      "conv3 shape: (None, 128, 128, 64)\n",
      "pool3 shape: (None, 64, 64, 64)\n"
     ]
    }
   ],
   "source": [
    "model = get_unet(0.0005, 512, 512, dr_rate=0.2, diceloss=False, jaccardloss=False, \n",
    "                 focalloss=False, customloss=False, start_filters=16)"
   ]
  },
  {
   "cell_type": "code",
   "execution_count": 20,
   "metadata": {},
   "outputs": [],
   "source": [
    "#model = load_model_unet('/home/daniel_haehn/mitochondria/a-fully-supervised-unet/models/lucchi-pp/weights.675-0.02.hdf5', \n",
    "#                         use_dice_loss=False, use_jaccard_loss=False, use_focal_loss=False)"
   ]
  },
  {
   "cell_type": "code",
   "execution_count": 21,
   "metadata": {},
   "outputs": [
    {
     "name": "stdout",
     "output_type": "stream",
     "text": [
      "Model: \"model_1\"\n",
      "__________________________________________________________________________________________________\n",
      "Layer (type)                    Output Shape         Param #     Connected to                     \n",
      "==================================================================================================\n",
      "input_2 (InputLayer)            [(None, 512, 512, 1) 0                                            \n",
      "__________________________________________________________________________________________________\n",
      "conv2d_24 (Conv2D)              (None, 512, 512, 16) 160         input_2[0][0]                    \n",
      "__________________________________________________________________________________________________\n",
      "conv2d_25 (Conv2D)              (None, 512, 512, 16) 2320        conv2d_24[0][0]                  \n",
      "__________________________________________________________________________________________________\n",
      "max_pooling2d_4 (MaxPooling2D)  (None, 256, 256, 16) 0           conv2d_25[0][0]                  \n",
      "__________________________________________________________________________________________________\n",
      "conv2d_26 (Conv2D)              (None, 256, 256, 32) 4640        max_pooling2d_4[0][0]            \n",
      "__________________________________________________________________________________________________\n",
      "conv2d_27 (Conv2D)              (None, 256, 256, 32) 9248        conv2d_26[0][0]                  \n",
      "__________________________________________________________________________________________________\n",
      "max_pooling2d_5 (MaxPooling2D)  (None, 128, 128, 32) 0           conv2d_27[0][0]                  \n",
      "__________________________________________________________________________________________________\n",
      "conv2d_28 (Conv2D)              (None, 128, 128, 64) 18496       max_pooling2d_5[0][0]            \n",
      "__________________________________________________________________________________________________\n",
      "conv2d_29 (Conv2D)              (None, 128, 128, 64) 36928       conv2d_28[0][0]                  \n",
      "__________________________________________________________________________________________________\n",
      "max_pooling2d_6 (MaxPooling2D)  (None, 64, 64, 64)   0           conv2d_29[0][0]                  \n",
      "__________________________________________________________________________________________________\n",
      "conv2d_30 (Conv2D)              (None, 64, 64, 128)  73856       max_pooling2d_6[0][0]            \n",
      "__________________________________________________________________________________________________\n",
      "conv2d_31 (Conv2D)              (None, 64, 64, 128)  147584      conv2d_30[0][0]                  \n",
      "__________________________________________________________________________________________________\n",
      "dropout_2 (Dropout)             (None, 64, 64, 128)  0           conv2d_31[0][0]                  \n",
      "__________________________________________________________________________________________________\n",
      "max_pooling2d_7 (MaxPooling2D)  (None, 32, 32, 128)  0           dropout_2[0][0]                  \n",
      "__________________________________________________________________________________________________\n",
      "conv2d_32 (Conv2D)              (None, 32, 32, 256)  295168      max_pooling2d_7[0][0]            \n",
      "__________________________________________________________________________________________________\n",
      "conv2d_33 (Conv2D)              (None, 32, 32, 256)  590080      conv2d_32[0][0]                  \n",
      "__________________________________________________________________________________________________\n",
      "dropout_3 (Dropout)             (None, 32, 32, 256)  0           conv2d_33[0][0]                  \n",
      "__________________________________________________________________________________________________\n",
      "up_sampling2d_4 (UpSampling2D)  (None, 64, 64, 256)  0           dropout_3[0][0]                  \n",
      "__________________________________________________________________________________________________\n",
      "conv2d_34 (Conv2D)              (None, 64, 64, 128)  131200      up_sampling2d_4[0][0]            \n",
      "__________________________________________________________________________________________________\n",
      "concatenate_4 (Concatenate)     (None, 64, 64, 256)  0           dropout_2[0][0]                  \n",
      "                                                                 conv2d_34[0][0]                  \n",
      "__________________________________________________________________________________________________\n",
      "conv2d_35 (Conv2D)              (None, 64, 64, 128)  295040      concatenate_4[0][0]              \n",
      "__________________________________________________________________________________________________\n",
      "conv2d_36 (Conv2D)              (None, 64, 64, 128)  147584      conv2d_35[0][0]                  \n",
      "__________________________________________________________________________________________________\n",
      "up_sampling2d_5 (UpSampling2D)  (None, 128, 128, 128 0           conv2d_36[0][0]                  \n",
      "__________________________________________________________________________________________________\n",
      "conv2d_37 (Conv2D)              (None, 128, 128, 64) 32832       up_sampling2d_5[0][0]            \n",
      "__________________________________________________________________________________________________\n",
      "concatenate_5 (Concatenate)     (None, 128, 128, 128 0           conv2d_29[0][0]                  \n",
      "                                                                 conv2d_37[0][0]                  \n",
      "__________________________________________________________________________________________________\n",
      "conv2d_38 (Conv2D)              (None, 128, 128, 64) 73792       concatenate_5[0][0]              \n",
      "__________________________________________________________________________________________________\n",
      "conv2d_39 (Conv2D)              (None, 128, 128, 64) 36928       conv2d_38[0][0]                  \n",
      "__________________________________________________________________________________________________\n",
      "up_sampling2d_6 (UpSampling2D)  (None, 256, 256, 64) 0           conv2d_39[0][0]                  \n",
      "__________________________________________________________________________________________________\n",
      "conv2d_40 (Conv2D)              (None, 256, 256, 64) 16448       up_sampling2d_6[0][0]            \n",
      "__________________________________________________________________________________________________\n",
      "concatenate_6 (Concatenate)     (None, 256, 256, 96) 0           conv2d_27[0][0]                  \n",
      "                                                                 conv2d_40[0][0]                  \n",
      "__________________________________________________________________________________________________\n",
      "conv2d_41 (Conv2D)              (None, 256, 256, 32) 27680       concatenate_6[0][0]              \n",
      "__________________________________________________________________________________________________\n",
      "conv2d_42 (Conv2D)              (None, 256, 256, 32) 9248        conv2d_41[0][0]                  \n",
      "__________________________________________________________________________________________________\n",
      "up_sampling2d_7 (UpSampling2D)  (None, 512, 512, 32) 0           conv2d_42[0][0]                  \n",
      "__________________________________________________________________________________________________\n",
      "conv2d_43 (Conv2D)              (None, 512, 512, 16) 2064        up_sampling2d_7[0][0]            \n",
      "__________________________________________________________________________________________________\n",
      "concatenate_7 (Concatenate)     (None, 512, 512, 32) 0           conv2d_25[0][0]                  \n",
      "                                                                 conv2d_43[0][0]                  \n",
      "__________________________________________________________________________________________________\n",
      "conv2d_44 (Conv2D)              (None, 512, 512, 16) 4624        concatenate_7[0][0]              \n",
      "__________________________________________________________________________________________________\n",
      "conv2d_45 (Conv2D)              (None, 512, 512, 16) 2320        conv2d_44[0][0]                  \n",
      "__________________________________________________________________________________________________\n",
      "conv2d_46 (Conv2D)              (None, 512, 512, 2)  290         conv2d_45[0][0]                  \n",
      "__________________________________________________________________________________________________\n",
      "conv2d_47 (Conv2D)              (None, 512, 512, 1)  3           conv2d_46[0][0]                  \n",
      "==================================================================================================\n",
      "Total params: 1,958,533\n",
      "Trainable params: 1,958,533\n",
      "Non-trainable params: 0\n",
      "__________________________________________________________________________________________________\n"
     ]
    }
   ],
   "source": [
    "model.summary()"
   ]
  },
  {
   "cell_type": "code",
   "execution_count": null,
   "metadata": {
    "scrolled": false
   },
   "outputs": [
    {
     "data": {
      "image/png": "[encoded data removed]",
      "text/plain": [
       "<Figure size 1008x720 with 6 Axes>"
      ]
     },
     "metadata": {
      "needs_background": "light"
     },
     "output_type": "display_data"
    },
    {
     "name": "stdout",
     "output_type": "stream",
     "text": [
      "iteration 89\n",
      "loss 0.19491636753082275 loss_val 0.21077489852905273\n",
      "acc None acc_val None\n",
      "prec 0.02717171423137188 prec_val 0.0\n",
      "rec 1.623515004212095e-06 rec_val 0.0\n",
      "jaccard 0.07003127038478851 jaccard_val 0.03572434186935425\n",
      "dice 0.13048335909843445 dice_val 0.06909362226724625\n",
      "time per epoch: 10.017833883842725\n",
      "\n",
      "Epoch 00089: saving model to models/A101test/weights.89-0.21-0.19-0.94.hdf5\n",
      "100/100 [==============================] - 10s 99ms/step - loss: 0.1949 - accuracy: 0.9390 - keras_precision: 0.0272 - keras_recall: 1.6235e-06 - keras_jaccard_coef: 0.0700 - keras_dice_coef: 0.1305 - val_loss: 0.2108 - val_accuracy: 0.9472 - val_keras_precision: 0.0000e+00 - val_keras_recall: 0.0000e+00 - val_keras_jaccard_coef: 0.0357 - val_keras_dice_coef: 0.0691\n",
      "Epoch 90/1000\n",
      "  9/100 [=>............................] - ETA: 5s - loss: 0.2137 - accuracy: 0.9320 - keras_precision: 0.0000e+00 - keras_recall: 0.0000e+00 - keras_jaccard_coef: 0.0747 - keras_dice_coef: 0.1384batch 10 of 100 ...\n",
      " 19/100 [====>.........................] - ETA: 5s - loss: 0.2041 - accuracy: 0.9349 - keras_precision: 0.0000e+00 - keras_recall: 0.0000e+00 - keras_jaccard_coef: 0.0732 - keras_dice_coef: 0.1358batch 20 of 100 ...\n",
      " 29/100 [=======>......................] - ETA: 4s - loss: 0.2056 - accuracy: 0.9349 - keras_precision: 0.0000e+00 - keras_recall: 0.0000e+00 - keras_jaccard_coef: 0.0723 - keras_dice_coef: 0.1343batch 30 of 100 ...\n",
      " 39/100 [==========>...................] - ETA: 4s - loss: 0.2048 - accuracy: 0.9350 - keras_precision: 0.0000e+00 - keras_recall: 0.0000e+00 - keras_jaccard_coef: 0.0724 - keras_dice_coef: 0.1346batch 40 of 100 ...\n",
      " 49/100 [=============>................] - ETA: 3s - loss: 0.2023 - accuracy: 0.9363 - keras_precision: 0.0000e+00 - keras_recall: 0.0000e+00 - keras_jaccard_coef: 0.0705 - keras_dice_coef: 0.1312batch 50 of 100 ...\n",
      " 59/100 [================>.............] - ETA: 2s - loss: 0.2020 - accuracy: 0.9364 - keras_precision: 0.0000e+00 - keras_recall: 0.0000e+00 - keras_jaccard_coef: 0.0695 - keras_dice_coef: 0.1294batch 60 of 100 ...\n",
      " 69/100 [===================>..........] - ETA: 2s - loss: 0.2028 - accuracy: 0.9363 - keras_precision: 0.0000e+00 - keras_recall: 0.0000e+00 - keras_jaccard_coef: 0.0696 - keras_dice_coef: 0.1297batch 70 of 100 ...\n",
      " 79/100 [======================>.......] - ETA: 1s - loss: 0.2012 - accuracy: 0.9368 - keras_precision: 0.0000e+00 - keras_recall: 0.0000e+00 - keras_jaccard_coef: 0.0701 - keras_dice_coef: 0.1305batch 80 of 100 ...\n",
      " 89/100 [=========================>....] - ETA: 0s - loss: 0.2011 - accuracy: 0.9368 - keras_precision: 0.0000e+00 - keras_recall: 0.0000e+00 - keras_jaccard_coef: 0.0706 - keras_dice_coef: 0.1314batch 90 of 100 ...\n",
      " 99/100 [============================>.] - ETA: 0s - loss: 0.2001 - accuracy: 0.9372 - keras_precision: 0.0000e+00 - keras_recall: 0.0000e+00 - keras_jaccard_coef: 0.0703 - keras_dice_coef: 0.1309batch 100 of 100 ...\n",
      "100/100 [==============================] - ETA: 0s - loss: 0.2005 - accuracy: 0.9370 - keras_precision: 0.0000e+00 - keras_recall: 0.0000e+00 - keras_jaccard_coef: 0.0704 - keras_dice_coef: 0.1311"
     ]
    }
   ],
   "source": [
    "train(model, imgs_train, imgs_mask_train, imgs_test, imgs_mask_test,\n",
    "      'models/A101test', 4, 1000, verbosity=1, \n",
    "      perform_flipping=True, perform_rotation=True, to_dir=False, train_on_borders=False)\n"
   ]
  },
  {
   "cell_type": "markdown",
   "metadata": {},
   "source": [
    "### Evaluate"
   ]
  },
  {
   "cell_type": "code",
   "execution_count": null,
   "metadata": {},
   "outputs": [],
   "source": [
    "pred = execute_predict(model, imgs_test, stepsize=512, resize_shortest=True, extensive=False)"
   ]
  },
  {
   "cell_type": "code",
   "execution_count": null,
   "metadata": {
    "collapsed": true
   },
   "outputs": [],
   "source": [
    "np.save('predictions.npy', pred)"
   ]
  },
  {
   "cell_type": "code",
   "execution_count": null,
   "metadata": {
    "collapsed": true
   },
   "outputs": [],
   "source": [
    "cmatrix = confusion_matrix(pred, imgs_mask_test)"
   ]
  },
  {
   "cell_type": "code",
   "execution_count": null,
   "metadata": {},
   "outputs": [],
   "source": [
    "statistics(cmatrix)"
   ]
  },
  {
   "cell_type": "code",
   "execution_count": null,
   "metadata": {
    "collapsed": true,
    "scrolled": false
   },
   "outputs": [],
   "source": [
    "error_distribution(model, imgs_test, imgs_mask_test, extensive=True, figsize=(15,10))"
   ]
  },
  {
   "cell_type": "code",
   "execution_count": null,
   "metadata": {},
   "outputs": [],
   "source": [
    "PR_curve(pred, imgs_mask_test)"
   ]
  },
  {
   "cell_type": "markdown",
   "metadata": {},
   "source": [
    "### Results On Single Image"
   ]
  },
  {
   "cell_type": "code",
   "execution_count": null,
   "metadata": {
    "collapsed": true,
    "scrolled": false
   },
   "outputs": [],
   "source": [
    "use_train = False\n",
    "imgnr = 60\n",
    "input_img = cv2.imread('/n/regal/pfister_lab/vincent/vcasser/connectomics/movements/epfl-' + ('train' if use_train else 'test') + '-crop/' + str(imgnr) + '.png',0) \n",
    "gt = misc.imread('/n/regal/pfister_lab/vincent/vcasser/connectomics/movements/epfl-' + ('train' if use_train else 'test') + '-crop-mask/' + str(imgnr) + '.png')\n",
    "print(gt.shape)\n",
    "\n",
    "plt.figure(figsize = (15,15))\n",
    "plt.imshow(input_img, cmap='gray')\n",
    "\n",
    "print(input_img.shape)\n",
    "res = execute_predict(model, input_img.reshape(1,512,512,1).astype(float)/255.)\n",
    "print(res.min(), res.max())\n",
    "\n",
    "res[res>0.5]=1\n",
    "res[res<=0.5]=0\n",
    "\n",
    "plt.figure(figsize = (15,15))\n",
    "plt.imshow(res[0,:,:,0], cmap='gray')\n",
    "\n",
    "plt.figure(figsize = (15,15))\n",
    "plt.imshow(gt[:,:,0], cmap='gray')\n",
    "\n",
    "cv2.imwrite('example_img_gt.png', gt)\n",
    "cv2.imwrite('example_img_raw.png', input_img)\n",
    "cv2.imwrite('example_img.png', res[0,:,:,0]*255.)"
   ]
  },
  {
   "cell_type": "markdown",
   "metadata": {},
   "source": [
    "### Server"
   ]
  },
  {
   "cell_type": "code",
   "execution_count": null,
   "metadata": {
    "collapsed": true
   },
   "outputs": [],
   "source": [
    "import socket \n",
    "import io\n",
    "from scipy import misc\n",
    "import matplotlib.pyplot as plt\n",
    "from scipy.misc import toimage\n",
    "%matplotlib inline\n",
    "\n",
    "def run(TCP_IP, TCP_PORT, BUFFER_SIZE=32768):\n",
    "    s = socket.socket(socket.AF_INET, socket.SOCK_STREAM)\n",
    "    s.setsockopt(socket.SOL_SOCKET, socket.SO_REUSEADDR, 1)\n",
    "    s.bind((TCP_IP, TCP_PORT))\n",
    "    \n",
    "    s.listen(1)\n",
    "  \n",
    "    while(True):\n",
    "        try:\n",
    "            print('waiting for incoming connections...')\n",
    "            conn, addr = s.accept()\n",
    "            print('Connection address:', addr)\n",
    "            while(True):\n",
    "                req = conn.recv(BUFFER_SIZE)\n",
    "                if not req: break\n",
    "                if len(req)<=1: continue #ignore tests if alive\n",
    "\n",
    "                length = int(req.decode(\"utf-8\"))\n",
    "                ct=0\n",
    "                b = io.BytesIO()\n",
    "\n",
    "                while(ct<length):\n",
    "                    req = conn.recv(min(BUFFER_SIZE, length-ct))\n",
    "                    b.write(req)\n",
    "                    ct+=len(req)\n",
    "                b.seek(0)\n",
    "                img = misc.imread(b)[:,:,0] #buff)\n",
    "\n",
    "                handle_request(req,conn,img)\n",
    "\n",
    "        except:\n",
    "            \n",
    "            print('connection closed.')\n",
    "            conn.close()\n",
    "            \n",
    "def handle_request(req, conn, img):\n",
    "    img = img/255.0\n",
    "    img = img.reshape(1,img.shape[0], img.shape[1], 1)\n",
    "    result = execute_predict(img)\n",
    "    result = result[0,:,:,0]\n",
    "    \n",
    "    result[result<0.5]=0\n",
    "    result[result>=0.5]=1\n",
    "    newres = np.zeros(shape=(result.shape[0], result.shape[1],4))\n",
    "    newres[:,:,0]=result\n",
    "    newres[:,:,1]=0\n",
    "    newres[:,:,2]=0\n",
    "    newres[:,:,3]=result/4\n",
    "    \n",
    "    result = newres\n",
    "    \n",
    "    resultb = io.BytesIO()\n",
    "    misc.imsave(resultb, result, format='png')\n",
    "    resultb.seek(0)\n",
    "    buff = resultb.read()\n",
    "    \n",
    "    conn.send(str.encode(str(len(buff))))\n",
    "    conn.send(buff)"
   ]
  },
  {
   "cell_type": "code",
   "execution_count": null,
   "metadata": {
    "collapsed": true
   },
   "outputs": [],
   "source": [
    "run('127.0.0.1', 9875)"
   ]
  },
  {
   "cell_type": "code",
   "execution_count": null,
   "metadata": {
    "collapsed": true
   },
   "outputs": [],
   "source": []
  }
 ],
 "metadata": {
  "kernelspec": {
   "display_name": "Python 3",
   "language": "python",
   "name": "python3"
  },
  "language_info": {
   "codemirror_mode": {
    "name": "ipython",
    "version": 3
   },
   "file_extension": ".py",
   "mimetype": "text/x-python",
   "name": "python",
   "nbconvert_exporter": "python",
   "pygments_lexer": "ipython3",
   "version": "3.8.5"
  }
 },
 "nbformat": 4,
 "nbformat_minor": 2
}
